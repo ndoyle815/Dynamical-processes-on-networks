{
 "cells": [
  {
   "cell_type": "markdown",
   "id": "eec1c8d0",
   "metadata": {},
   "source": [
    "Trying to replicate some results from Asllani et. al"
   ]
  },
  {
   "cell_type": "code",
   "execution_count": 304,
   "id": "09795e66",
   "metadata": {},
   "outputs": [],
   "source": [
    "# libraries\n",
    "import numpy as np\n",
    "import matplotlib.pyplot as plt\n",
    "from matplotlib import cm\n",
    "from scipy.integrate import solve_ivp, odeint\n",
    "from scipy.sparse import csgraph\n",
    "import networkx as nx\n",
    "\n",
    "#plotting\n",
    "plt.rcParams['text.usetex'] = True\n",
    "plt.rcParams.update({'font.size': 22})"
   ]
  },
  {
   "cell_type": "code",
   "execution_count": 305,
   "id": "967a58d1",
   "metadata": {},
   "outputs": [],
   "source": [
    "# function to generate a synthetic directed Watts-Strogatz network using the Newman-Watts algorithm\n",
    "def Newman_Watts_generator(N, K, p):\n",
    "    #N: number of nodes\n",
    "    #K: number of nearest neighbours for initial configuration\n",
    "    #p: probability of rewiring edge\n",
    "    \n",
    "    # initial configuration is K-regular ring lattice (on one side only)\n",
    "    A = np.zeros((N,N))\n",
    "    start_edges = []\n",
    "\n",
    "    # for each node n add directed edge going to node n+k for k = 1, ..., K\n",
    "    for i in range(N):\n",
    "        for k in range(1,K+1):\n",
    "            A[i,int((i+k)%N)] = 1\n",
    "            start_edges.append((i,int((i+k)%10))) # collect list of edges in initial configuration\n",
    "    \n",
    "    # re-wiring\n",
    "    for (i,j) in start_edges:\n",
    "        r = np.random.rand()\n",
    "        \n",
    "        # re-wire edge at probability p\n",
    "        if r < p:\n",
    "            \n",
    "            # possible new destinations for rewired directed edge\n",
    "            sample = [j1 for j1 in range(N) if j1!=i and (i,j1) not in start_edges]\n",
    "            newdest = np.random.choice(sample,size=1) # choose at uniform probability\n",
    "            \n",
    "            # rewiring\n",
    "            A[i,j] = 0\n",
    "            A[i,newdest] = 1\n",
    "    \n",
    "    # return resulting adjacency matrix\n",
    "    return A"
   ]
  },
  {
   "cell_type": "code",
   "execution_count": 306,
   "id": "5be31453",
   "metadata": {},
   "outputs": [
    {
     "data": {
      "text/plain": [
       "array([[0., 1., 1., 0., 0., 0., 0., 0., 0., 0.],\n",
       "       [0., 0., 1., 1., 0., 0., 0., 0., 0., 0.],\n",
       "       [0., 0., 0., 1., 1., 0., 0., 0., 0., 0.],\n",
       "       [0., 0., 0., 0., 0., 1., 0., 0., 1., 0.],\n",
       "       [1., 0., 0., 0., 0., 0., 0., 0., 1., 0.],\n",
       "       [0., 0., 0., 0., 0., 0., 0., 1., 0., 1.],\n",
       "       [0., 0., 0., 1., 0., 0., 0., 1., 0., 0.],\n",
       "       [0., 0., 0., 0., 0., 0., 0., 0., 1., 1.],\n",
       "       [1., 0., 0., 0., 1., 0., 0., 0., 0., 0.],\n",
       "       [1., 1., 0., 0., 0., 0., 0., 0., 0., 0.]])"
      ]
     },
     "execution_count": 306,
     "metadata": {},
     "output_type": "execute_result"
    }
   ],
   "source": [
    "# Example with N=10, K=2, p=0.2\n",
    "N = 10\n",
    "K = 2\n",
    "p = 0.2\n",
    "Newman_Watts_generator(N, K, p)"
   ]
  },
  {
   "cell_type": "code",
   "execution_count": 356,
   "id": "fb3cc514",
   "metadata": {},
   "outputs": [
    {
     "data": {
      "text/plain": [
       "array([ 9.,  9.,  9.,  8.,  9., 10.,  9., 10.,  7.,  8., 11., 10., 11.,\n",
       "       10., 10., 13., 11., 14., 12., 11., 11., 14., 11., 10., 10., 10.,\n",
       "       12., 10., 11., 11., 13., 14., 11., 12., 10., 13., 11., 12., 11.,\n",
       "       12., 10., 11., 13., 11., 10., 11., 11., 10., 11., 12., 12., 10.,\n",
       "       11., 10., 10., 13., 10., 12., 12., 11., 11., 11., 12., 14., 10.,\n",
       "       10., 10., 12., 10., 11., 10., 11., 10., 11., 10., 11., 10., 11.,\n",
       "       10., 12., 12., 12., 10., 11., 12., 11., 10., 10., 12., 13., 12.,\n",
       "       10., 12., 10., 12., 12., 11., 10., 11., 10.])"
      ]
     },
     "execution_count": 356,
     "metadata": {},
     "output_type": "execute_result"
    }
   ],
   "source": [
    "# generate random graph\n",
    "A = Newman_Watts_generator(100, 10, 0.1)\n",
    "np.sum(A,axis=0)"
   ]
  },
  {
   "cell_type": "code",
   "execution_count": 357,
   "id": "47986e50",
   "metadata": {},
   "outputs": [],
   "source": [
    "# function to simulate reaction-diffusion model embedded on a network structure\n",
    "def simulate_rdm(A, f1, f2, D, init, tspan):\n",
    "    # A: Adjacency matrix of underlying network (NxN array)\n",
    "    # f1,f2: nonlinear functions representing reaction terms (functions)\n",
    "    # D: diffusion coefficients (list of length 2)\n",
    "    # init: initial conditions\n",
    "    # tspan: length of time to simulate\n",
    "    \n",
    "    # Generate graph Laplacian from adjacency matrix A\n",
    "    N = len(A)\n",
    "    Delta = csgraph.laplacian(A, normed=False)\n",
    "\n",
    "    def system(x,t):\n",
    "        # 2-species model dependent on functions f1 and f2\n",
    "        phi = x[:N]\n",
    "        psi = x[N:]\n",
    "        \n",
    "        # Equations\n",
    "        dphidt = f1(phi,psi) + D[0]*np.matmul(Delta,phi)\n",
    "        dpsidt = f2(phi,psi) + D[1]*np.matmul(Delta,psi)\n",
    "        \n",
    "        # Each row of solutions is first half phi concentration of nodes, second half psi concentration of nodes\n",
    "        return np.hstack((dphidt, dpsidt))\n",
    "    \n",
    "    # Solve\n",
    "    #sol = solve_ivp(system, tspan, init)\n",
    "    sol = odeint(system, init, tspan)\n",
    "    \n",
    "    # meshgrid of nodes and timescale for plotting\n",
    "    nodes = np.arange(1,N+1)\n",
    "    ngrid, tgrid = np.meshgrid(nodes, tspan)\n",
    "    \n",
    "    # plotting phi concentrations\n",
    "    fig = plt.figure(figsize=(10,6))\n",
    "    c = plt.pcolormesh(ngrid, tgrid, sol[:,:N], cmap=cm.coolwarm)\n",
    "    cbar = fig.colorbar(c, shrink=0.7, aspect=5)\n",
    "    plt.clim(0,2)\n",
    "    plt.xlabel('Node $i$')\n",
    "    plt.ylabel('time $(s)$')\n",
    "    plt.title('$\\phi_i$ concentration')\n",
    "    plt.show()\n",
    "    \n",
    "    # plotting psi concentrations\n",
    "    fig = plt.figure(figsize=(10,6))\n",
    "    c = plt.pcolormesh(ngrid, tgrid, sol[:,N:], cmap=cm.coolwarm)\n",
    "    cbar = fig.colorbar(c, shrink=0.7, aspect=5)\n",
    "    plt.clim(0,2)\n",
    "    plt.xlabel('Node $i$')\n",
    "    plt.ylabel('time $(s)$')\n",
    "    plt.title('$\\psi_i$ concentration')\n",
    "    plt.show()\n",
    "\n",
    "    return sol"
   ]
  },
  {
   "cell_type": "code",
   "execution_count": 358,
   "id": "b50e04b4",
   "metadata": {},
   "outputs": [],
   "source": [
    "# function to simulate reaction-diffusion model embedded on a network structure\n",
    "def simulate_rdm(A, f1, f2, D, init, tspan):\n",
    "    # A: Adjacency matrix of underlying network (NxN array)\n",
    "    # f1,f2: nonlinear functions representing reaction terms (functions)\n",
    "    # D: diffusion coefficients (list of length 2)\n",
    "    # init: initial conditions\n",
    "    # tspan: length of time to simulate\n",
    "    \n",
    "    # Generate graph Laplacian from adjacency matrix A\n",
    "    N = len(A)\n",
    "    Delta = csgraph.laplacian(A, normed=False)\n",
    "    \n",
    "    # setting up system\n",
    "    sol = init\n",
    "    phiold = sol[:N]\n",
    "    psiold = sol[N:]\n",
    "    dt = tspan[1]\n",
    "\n",
    "    for t in tspan[:-1]:\n",
    "        phinew = phiold + dt*(f1(phiold,psiold) + D[0]*np.matmul(Delta,phiold))\n",
    "        psinew = psiold + dt*(f2(phiold,psiold) + D[1]*np.matmul(Delta,psiold))\n",
    "        sol = np.vstack(( sol, np.hstack(( phinew, psinew )) ))\n",
    "        #if t < 5*dt:\n",
    "        #    print(np.hstack(( phinew, psinew )))\n",
    "        #    print('\\n')\n",
    "   \n",
    "    # meshgrid of nodes and timescale for plotting\n",
    "    nodes = np.arange(1,N+1)\n",
    "    ngrid, tgrid = np.meshgrid(nodes, tspan)\n",
    "\n",
    "    # plotting phi concentrations\n",
    "    fig = plt.figure(figsize=(10,6))\n",
    "    c = plt.pcolormesh(ngrid, tgrid, sol[:,:N], cmap=cm.coolwarm)\n",
    "    cbar = fig.colorbar(c, shrink=0.7, aspect=5)\n",
    "    plt.clim(0,2)\n",
    "    plt.xlabel('Node $i$')\n",
    "    plt.ylabel('time $(s)$')\n",
    "    plt.title('$\\phi_i$ concentration')\n",
    "    plt.show()\n",
    "    \n",
    "    # plotting psi concentrations\n",
    "    fig = plt.figure(figsize=(10,6))\n",
    "    c = plt.pcolormesh(ngrid, tgrid, sol[:,N:], cmap=cm.coolwarm)\n",
    "    cbar = fig.colorbar(c, shrink=0.7, aspect=5)\n",
    "    plt.clim(0,2)\n",
    "    plt.xlabel('Node $i$')\n",
    "    plt.ylabel('time $(s)$')\n",
    "    plt.title('$\\psi_i$ concentration')\n",
    "    plt.show()\n",
    "\n",
    "    return sol"
   ]
  },
  {
   "cell_type": "code",
   "execution_count": 359,
   "id": "bbc21cef",
   "metadata": {},
   "outputs": [],
   "source": [
    "# Brusselator reaction functions\n",
    "def f1(x,y):\n",
    "    global b,c\n",
    "    return 1 - (b + 1)*x + c*x*x*y\n",
    "\n",
    "def f2(x,y):\n",
    "    global b,c\n",
    "    return b*x - c*x*x*y"
   ]
  },
  {
   "cell_type": "code",
   "execution_count": 360,
   "id": "3342176b",
   "metadata": {},
   "outputs": [
    {
     "name": "stderr",
     "output_type": "stream",
     "text": [
      "/tmp/ipykernel_7862/330945389.py:2: FutureWarning: adjacency_matrix will return a scipy.sparse array instead of a matrix in Networkx 3.0.\n",
      "  adj = nx.adjacency_matrix(G1); adj = adj.toarray()\n"
     ]
    }
   ],
   "source": [
    "G1 = nx.watts_strogatz_graph(100,10,0.1)\n",
    "adj = nx.adjacency_matrix(G1); adj = adj.toarray()"
   ]
  },
  {
   "cell_type": "code",
   "execution_count": 361,
   "id": "3af0d48e",
   "metadata": {},
   "outputs": [],
   "source": [
    "# Setup\n",
    "b = 9\n",
    "c = 30\n",
    "D = [1, 7]\n",
    "init = np.ones(2*len(A))\n",
    "#init = np.hstack(( np.ones(len(A)), b/c*np.ones(len(A)) ))\n",
    "tspan = np.arange(0,1,0.01)"
   ]
  },
  {
   "cell_type": "code",
   "execution_count": 362,
   "id": "be6487c2",
   "metadata": {},
   "outputs": [
    {
     "data": {
      "image/png": "[encoded data removed]",
      "text/plain": [
       "<Figure size 1000x600 with 2 Axes>"
      ]
     },
     "metadata": {},
     "output_type": "display_data"
    },
    {
     "data": {
      "image/png": "[encoded data removed]",
      "text/plain": [
       "<Figure size 1000x600 with 2 Axes>"
      ]
     },
     "metadata": {},
     "output_type": "display_data"
    }
   ],
   "source": [
    "sol = simulate_rdm(A, f1, f2, D, init, tspan)"
   ]
  },
  {
   "cell_type": "code",
   "execution_count": null,
   "id": "22504dfa",
   "metadata": {},
   "outputs": [],
   "source": []
  }
 ],
 "metadata": {
  "kernelspec": {
   "display_name": "Python 3 (ipykernel)",
   "language": "python",
   "name": "python3"
  },
  "language_info": {
   "codemirror_mode": {
    "name": "ipython",
    "version": 3
   },
   "file_extension": ".py",
   "mimetype": "text/x-python",
   "name": "python",
   "nbconvert_exporter": "python",
   "pygments_lexer": "ipython3",
   "version": "3.9.12"
  }
 },
 "nbformat": 4,
 "nbformat_minor": 5
}
